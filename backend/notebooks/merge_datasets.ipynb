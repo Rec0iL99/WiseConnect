{
 "cells": [
  {
   "cell_type": "code",
   "outputs": [],
   "source": [
    "import pandas as pd"
   ],
   "metadata": {
    "collapsed": false,
    "ExecuteTime": {
     "end_time": "2024-02-18T08:07:49.353146200Z",
     "start_time": "2024-02-18T08:07:49.251217300Z"
    }
   },
   "id": "initial_id",
   "execution_count": 26
  },
  {
   "cell_type": "markdown",
   "source": [
    "## Dataset #1"
   ],
   "metadata": {
    "collapsed": false
   },
   "id": "a80d8e47a9518464"
  },
  {
   "cell_type": "code",
   "outputs": [],
   "source": [
    "BASE_PATH = r\"C:\\Users\\prati\\Downloads\\wiseconnect datasets\"\n",
    "df1 = pd.read_csv(BASE_PATH + r\"\\Dataset_5971.csv\")[[\"LABEL\", \"TEXT\"]]"
   ],
   "metadata": {
    "collapsed": false,
    "ExecuteTime": {
     "end_time": "2024-02-18T08:07:49.405070900Z",
     "start_time": "2024-02-18T08:07:49.359124900Z"
    }
   },
   "id": "e4727a559c4ad0ca",
   "execution_count": 27
  },
  {
   "cell_type": "code",
   "outputs": [
    {
     "data": {
      "text/plain": "  category                                               text\n0      ham  Your opinion about me? 1. Over 2. Jada 3. Kusr...\n1      ham  What's up? Do you want me to come online? If y...\n2      ham                       So u workin overtime nigpun?\n3      ham  Also sir, i sent you an email about how to log...\n6      ham  Sorry dude. Dont know how i forgot. Even after...",
      "text/html": "<div>\n<style scoped>\n    .dataframe tbody tr th:only-of-type {\n        vertical-align: middle;\n    }\n\n    .dataframe tbody tr th {\n        vertical-align: top;\n    }\n\n    .dataframe thead th {\n        text-align: right;\n    }\n</style>\n<table border=\"1\" class=\"dataframe\">\n  <thead>\n    <tr style=\"text-align: right;\">\n      <th></th>\n      <th>category</th>\n      <th>text</th>\n    </tr>\n  </thead>\n  <tbody>\n    <tr>\n      <th>0</th>\n      <td>ham</td>\n      <td>Your opinion about me? 1. Over 2. Jada 3. Kusr...</td>\n    </tr>\n    <tr>\n      <th>1</th>\n      <td>ham</td>\n      <td>What's up? Do you want me to come online? If y...</td>\n    </tr>\n    <tr>\n      <th>2</th>\n      <td>ham</td>\n      <td>So u workin overtime nigpun?</td>\n    </tr>\n    <tr>\n      <th>3</th>\n      <td>ham</td>\n      <td>Also sir, i sent you an email about how to log...</td>\n    </tr>\n    <tr>\n      <th>6</th>\n      <td>ham</td>\n      <td>Sorry dude. Dont know how i forgot. Even after...</td>\n    </tr>\n  </tbody>\n</table>\n</div>"
     },
     "execution_count": 28,
     "metadata": {},
     "output_type": "execute_result"
    }
   ],
   "source": [
    "df1[\"LABEL\"] = df1[\"LABEL\"].str.replace(\"Spam\", \"spam\").replace(\"Smishing\", \"smishing\")\n",
    "df1 = df1[df1[\"LABEL\"] != \"smishing\"]\n",
    "df1.columns = [\"category\", \"text\"]\n",
    "df1.head()"
   ],
   "metadata": {
    "collapsed": false,
    "ExecuteTime": {
     "end_time": "2024-02-18T08:07:49.450292300Z",
     "start_time": "2024-02-18T08:07:49.386229900Z"
    }
   },
   "id": "bfa7c656e8ce49",
   "execution_count": 28
  },
  {
   "cell_type": "markdown",
   "source": [
    "## Dataset #2"
   ],
   "metadata": {
    "collapsed": false
   },
   "id": "85245ac14efc990"
  },
  {
   "cell_type": "code",
   "outputs": [],
   "source": [
    "df2 = pd.read_csv(BASE_PATH + r\"\\text-messages.csv\")[[\"category\", \"text\"]]"
   ],
   "metadata": {
    "collapsed": false,
    "ExecuteTime": {
     "end_time": "2024-02-18T08:07:49.453301100Z",
     "start_time": "2024-02-18T08:07:49.426848100Z"
    }
   },
   "id": "9e3f67f37f867882",
   "execution_count": 29
  },
  {
   "cell_type": "code",
   "outputs": [
    {
     "data": {
      "text/plain": "   category                                               text\n0      spam  Make money while watching YouTube, earn 500P p...\n1       ham  Get up to P125K extra funds for emergencies wi...\n9       ham  G to upgrade your home! Just use GCredit to pa...\n10      ham  Good news! You can still pay with GGives at yo...\n11      ham  Get up to P125K extra funds for emergencies wi...",
      "text/html": "<div>\n<style scoped>\n    .dataframe tbody tr th:only-of-type {\n        vertical-align: middle;\n    }\n\n    .dataframe tbody tr th {\n        vertical-align: top;\n    }\n\n    .dataframe thead th {\n        text-align: right;\n    }\n</style>\n<table border=\"1\" class=\"dataframe\">\n  <thead>\n    <tr style=\"text-align: right;\">\n      <th></th>\n      <th>category</th>\n      <th>text</th>\n    </tr>\n  </thead>\n  <tbody>\n    <tr>\n      <th>0</th>\n      <td>spam</td>\n      <td>Make money while watching YouTube, earn 500P p...</td>\n    </tr>\n    <tr>\n      <th>1</th>\n      <td>ham</td>\n      <td>Get up to P125K extra funds for emergencies wi...</td>\n    </tr>\n    <tr>\n      <th>9</th>\n      <td>ham</td>\n      <td>G to upgrade your home! Just use GCredit to pa...</td>\n    </tr>\n    <tr>\n      <th>10</th>\n      <td>ham</td>\n      <td>Good news! You can still pay with GGives at yo...</td>\n    </tr>\n    <tr>\n      <th>11</th>\n      <td>ham</td>\n      <td>Get up to P125K extra funds for emergencies wi...</td>\n    </tr>\n  </tbody>\n</table>\n</div>"
     },
     "execution_count": 30,
     "metadata": {},
     "output_type": "execute_result"
    }
   ],
   "source": [
    "df2 = df2[df2[\"text\"] != \"<REDACTED>\"]\n",
    "df2[\"category\"] = df2[\"category\"].apply(lambda x: \"spam\" if x == \"spam\" else \"ham\")\n",
    "df2.head()"
   ],
   "metadata": {
    "collapsed": false,
    "ExecuteTime": {
     "end_time": "2024-02-18T08:07:49.520431400Z",
     "start_time": "2024-02-18T08:07:49.453301100Z"
    }
   },
   "id": "88743a2ff529e96e",
   "execution_count": 30
  },
  {
   "cell_type": "markdown",
   "source": [
    "## Dataset #3"
   ],
   "metadata": {
    "collapsed": false
   },
   "id": "18af71fcec11e58"
  },
  {
   "cell_type": "code",
   "outputs": [],
   "source": [
    "df3 = pd.read_csv(BASE_PATH + r\"\\spam.csv\")[[\"v1\", \"v2\"]]"
   ],
   "metadata": {
    "collapsed": false,
    "ExecuteTime": {
     "end_time": "2024-02-18T08:07:49.619036100Z",
     "start_time": "2024-02-18T08:07:49.482006900Z"
    }
   },
   "id": "654610794a276064",
   "execution_count": 31
  },
  {
   "cell_type": "code",
   "outputs": [],
   "source": [
    "df3.columns = [\"category\", \"text\"]"
   ],
   "metadata": {
    "collapsed": false,
    "ExecuteTime": {
     "end_time": "2024-02-18T08:07:49.644462600Z",
     "start_time": "2024-02-18T08:07:49.514114700Z"
    }
   },
   "id": "60d6b58f41a1aecd",
   "execution_count": 32
  },
  {
   "cell_type": "markdown",
   "source": [
    "## Merge all datasets"
   ],
   "metadata": {
    "collapsed": false
   },
   "id": "7eaecfdbdbba4ae0"
  },
  {
   "cell_type": "code",
   "outputs": [],
   "source": [
    "dfs = [df1, df2, df3]"
   ],
   "metadata": {
    "collapsed": false,
    "ExecuteTime": {
     "end_time": "2024-02-18T08:07:49.662513Z",
     "start_time": "2024-02-18T08:07:49.528938900Z"
    }
   },
   "id": "6c95c7e85e45cceb",
   "execution_count": 33
  },
  {
   "cell_type": "code",
   "outputs": [
    {
     "data": {
      "text/plain": "(11726, 2)"
     },
     "execution_count": 34,
     "metadata": {},
     "output_type": "execute_result"
    }
   ],
   "source": [
    "final_df = pd.concat(dfs, axis=0)\n",
    "final_df.shape"
   ],
   "metadata": {
    "collapsed": false,
    "ExecuteTime": {
     "end_time": "2024-02-18T08:07:49.672027500Z",
     "start_time": "2024-02-18T08:07:49.546237Z"
    }
   },
   "id": "2f9179ab7be166c8",
   "execution_count": 34
  },
  {
   "cell_type": "code",
   "outputs": [
    {
     "data": {
      "text/plain": "           text\ncategory       \nham       10047\nspam       1679",
      "text/html": "<div>\n<style scoped>\n    .dataframe tbody tr th:only-of-type {\n        vertical-align: middle;\n    }\n\n    .dataframe tbody tr th {\n        vertical-align: top;\n    }\n\n    .dataframe thead th {\n        text-align: right;\n    }\n</style>\n<table border=\"1\" class=\"dataframe\">\n  <thead>\n    <tr style=\"text-align: right;\">\n      <th></th>\n      <th>text</th>\n    </tr>\n    <tr>\n      <th>category</th>\n      <th></th>\n    </tr>\n  </thead>\n  <tbody>\n    <tr>\n      <th>ham</th>\n      <td>10047</td>\n    </tr>\n    <tr>\n      <th>spam</th>\n      <td>1679</td>\n    </tr>\n  </tbody>\n</table>\n</div>"
     },
     "execution_count": 35,
     "metadata": {},
     "output_type": "execute_result"
    }
   ],
   "source": [
    "final_df.groupby(\"category\").count()"
   ],
   "metadata": {
    "collapsed": false,
    "ExecuteTime": {
     "end_time": "2024-02-18T08:07:49.699262Z",
     "start_time": "2024-02-18T08:07:49.560566700Z"
    }
   },
   "id": "e8856caa0e1b1c20",
   "execution_count": 35
  },
  {
   "cell_type": "code",
   "outputs": [
    {
     "data": {
      "text/plain": "  category                                               text\n0      ham  opinion 1 2 jada 3 kusruthi 4 lovable 5 silent...\n1      ham         whats want come online free talk sometime�\n2      ham                           u workin overtime nigpun\n3      ham  also sir sent email log usc payment portal ill...\n6      ham  sorry dude dont know forgot even dan reminded ...",
      "text/html": "<div>\n<style scoped>\n    .dataframe tbody tr th:only-of-type {\n        vertical-align: middle;\n    }\n\n    .dataframe tbody tr th {\n        vertical-align: top;\n    }\n\n    .dataframe thead th {\n        text-align: right;\n    }\n</style>\n<table border=\"1\" class=\"dataframe\">\n  <thead>\n    <tr style=\"text-align: right;\">\n      <th></th>\n      <th>category</th>\n      <th>text</th>\n    </tr>\n  </thead>\n  <tbody>\n    <tr>\n      <th>0</th>\n      <td>ham</td>\n      <td>opinion 1 2 jada 3 kusruthi 4 lovable 5 silent...</td>\n    </tr>\n    <tr>\n      <th>1</th>\n      <td>ham</td>\n      <td>whats want come online free talk sometime�</td>\n    </tr>\n    <tr>\n      <th>2</th>\n      <td>ham</td>\n      <td>u workin overtime nigpun</td>\n    </tr>\n    <tr>\n      <th>3</th>\n      <td>ham</td>\n      <td>also sir sent email log usc payment portal ill...</td>\n    </tr>\n    <tr>\n      <th>6</th>\n      <td>ham</td>\n      <td>sorry dude dont know forgot even dan reminded ...</td>\n    </tr>\n  </tbody>\n</table>\n</div>"
     },
     "execution_count": 36,
     "metadata": {},
     "output_type": "execute_result"
    }
   ],
   "source": [
    "import string\n",
    "from nltk.corpus import stopwords\n",
    "stop_words = set(stopwords.words('english'))\n",
    "\n",
    "def clean_text(text: str) -> str:\n",
    "    text = text.lower()\n",
    "    text = text.translate(str.maketrans('', '', string.punctuation))\n",
    "    \n",
    "    text = text.split()\n",
    "    text = \" \".join([token for token in text if token not in stop_words])\n",
    "    return text\n",
    "\n",
    "final_df[\"text\"] = final_df[\"text\"].apply(clean_text)\n",
    "final_df.head()"
   ],
   "metadata": {
    "collapsed": false,
    "ExecuteTime": {
     "end_time": "2024-02-18T08:07:49.749301100Z",
     "start_time": "2024-02-18T08:07:49.577091200Z"
    }
   },
   "id": "256d5c54bb5d2169",
   "execution_count": 36
  },
  {
   "cell_type": "code",
   "outputs": [],
   "source": [
    "final_df.to_csv(\"fraud_text.csv\", index=False)"
   ],
   "metadata": {
    "collapsed": false,
    "ExecuteTime": {
     "end_time": "2024-02-18T08:07:49.750465700Z",
     "start_time": "2024-02-18T08:07:49.670029100Z"
    }
   },
   "id": "e56286f77adfc2bb",
   "execution_count": 37
  },
  {
   "cell_type": "markdown",
   "source": [
    "## Train models"
   ],
   "metadata": {
    "collapsed": false
   },
   "id": "fe23ad896f5195ec"
  },
  {
   "cell_type": "code",
   "outputs": [
    {
     "data": {
      "text/plain": "   is_fraud                                               text\n0         0  opinion 1 2 jada 3 kusruthi 4 lovable 5 silent...\n1         0         whats want come online free talk sometime�\n2         0                           u workin overtime nigpun\n3         0  also sir sent email log usc payment portal ill...\n6         0  sorry dude dont know forgot even dan reminded ...",
      "text/html": "<div>\n<style scoped>\n    .dataframe tbody tr th:only-of-type {\n        vertical-align: middle;\n    }\n\n    .dataframe tbody tr th {\n        vertical-align: top;\n    }\n\n    .dataframe thead th {\n        text-align: right;\n    }\n</style>\n<table border=\"1\" class=\"dataframe\">\n  <thead>\n    <tr style=\"text-align: right;\">\n      <th></th>\n      <th>is_fraud</th>\n      <th>text</th>\n    </tr>\n  </thead>\n  <tbody>\n    <tr>\n      <th>0</th>\n      <td>0</td>\n      <td>opinion 1 2 jada 3 kusruthi 4 lovable 5 silent...</td>\n    </tr>\n    <tr>\n      <th>1</th>\n      <td>0</td>\n      <td>whats want come online free talk sometime�</td>\n    </tr>\n    <tr>\n      <th>2</th>\n      <td>0</td>\n      <td>u workin overtime nigpun</td>\n    </tr>\n    <tr>\n      <th>3</th>\n      <td>0</td>\n      <td>also sir sent email log usc payment portal ill...</td>\n    </tr>\n    <tr>\n      <th>6</th>\n      <td>0</td>\n      <td>sorry dude dont know forgot even dan reminded ...</td>\n    </tr>\n  </tbody>\n</table>\n</div>"
     },
     "execution_count": 38,
     "metadata": {},
     "output_type": "execute_result"
    }
   ],
   "source": [
    "final_df[\"category\"] = final_df[\"category\"].apply(lambda x: 1 if x == \"spam\" else 0)\n",
    "final_df.columns = [\"is_fraud\", \"text\"]\n",
    "final_df.head()"
   ],
   "metadata": {
    "collapsed": false,
    "ExecuteTime": {
     "end_time": "2024-02-18T08:07:49.813596400Z",
     "start_time": "2024-02-18T08:07:49.708870700Z"
    }
   },
   "id": "eab57030364941aa",
   "execution_count": 38
  },
  {
   "cell_type": "code",
   "outputs": [],
   "source": [
    "from sklearn.model_selection import train_test_split\n",
    "\n",
    "X_train, X_test, y_train, y_test = train_test_split(final_df[\"text\"], final_df[\"is_fraud\"], test_size=0.33)"
   ],
   "metadata": {
    "collapsed": false,
    "ExecuteTime": {
     "end_time": "2024-02-18T08:07:49.885932500Z",
     "start_time": "2024-02-18T08:07:49.781352900Z"
    }
   },
   "id": "f82b192421d7b904",
   "execution_count": 39
  },
  {
   "cell_type": "code",
   "outputs": [],
   "source": [
    "from sklearn.feature_extraction.text import CountVectorizer\n",
    "\n",
    "vectorizer = CountVectorizer()\n",
    "X_train = vectorizer.fit_transform(X_train)\n",
    "X_test = vectorizer.transform(X_test)"
   ],
   "metadata": {
    "collapsed": false,
    "ExecuteTime": {
     "end_time": "2024-02-18T08:07:50.075306700Z",
     "start_time": "2024-02-18T08:07:49.869010700Z"
    }
   },
   "id": "2b4a483f8519b18f",
   "execution_count": 40
  },
  {
   "cell_type": "code",
   "outputs": [
    {
     "name": "stdout",
     "output_type": "stream",
     "text": [
      "Accuracy: 0.9775193798449613\n"
     ]
    }
   ],
   "source": [
    "from sklearn.linear_model import LogisticRegression\n",
    "from sklearn.metrics import accuracy_score\n",
    "\n",
    "classifier = LogisticRegression()\n",
    "classifier.fit(X_train, y_train)\n",
    "\n",
    "# Make predictions on the test set\n",
    "y_pred = classifier.predict(X_test)\n",
    "\n",
    "# Evaluate the accuracy of the classifier\n",
    "accuracy = accuracy_score(y_test, y_pred)\n",
    "print(\"Accuracy:\", accuracy)"
   ],
   "metadata": {
    "collapsed": false,
    "ExecuteTime": {
     "end_time": "2024-02-18T08:07:50.194137400Z",
     "start_time": "2024-02-18T08:07:50.026419Z"
    }
   },
   "id": "ca6ddf918fe4f086",
   "execution_count": 41
  },
  {
   "cell_type": "code",
   "outputs": [],
   "source": [
    "import pickle\n",
    "with open(\"./LogisticReg.pkl\", \"wb\") as fp:\n",
    "    pickle.dump((vectorizer, classifier), fp)"
   ],
   "metadata": {
    "collapsed": false,
    "ExecuteTime": {
     "end_time": "2024-02-18T08:07:50.251370800Z",
     "start_time": "2024-02-18T08:07:50.217284100Z"
    }
   },
   "id": "5c0e379313b8b985",
   "execution_count": 43
  }
 ],
 "metadata": {
  "kernelspec": {
   "display_name": "Python 3",
   "language": "python",
   "name": "python3"
  },
  "language_info": {
   "codemirror_mode": {
    "name": "ipython",
    "version": 2
   },
   "file_extension": ".py",
   "mimetype": "text/x-python",
   "name": "python",
   "nbconvert_exporter": "python",
   "pygments_lexer": "ipython2",
   "version": "2.7.6"
  }
 },
 "nbformat": 4,
 "nbformat_minor": 5
}
