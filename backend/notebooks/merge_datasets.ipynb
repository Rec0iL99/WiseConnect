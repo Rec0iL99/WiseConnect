{
 "cells": [
  {
   "cell_type": "code",
   "outputs": [],
   "source": [
    "import pandas as pd"
   ],
   "metadata": {
    "collapsed": false,
    "ExecuteTime": {
     "end_time": "2024-02-18T07:26:51.831173900Z",
     "start_time": "2024-02-18T07:26:51.764386400Z"
    }
   },
   "id": "initial_id",
   "execution_count": 12
  },
  {
   "cell_type": "markdown",
   "source": [
    "## Dataset #1"
   ],
   "metadata": {
    "collapsed": false
   },
   "id": "a80d8e47a9518464"
  },
  {
   "cell_type": "code",
   "outputs": [],
   "source": [
    "BASE_PATH = r\"C:\\Users\\prati\\Downloads\\wiseconnect datasets\"\n",
    "df1 = pd.read_csv(BASE_PATH + r\"\\Dataset_5971.csv\")[[\"LABEL\", \"TEXT\"]]"
   ],
   "metadata": {
    "collapsed": false,
    "ExecuteTime": {
     "end_time": "2024-02-18T07:26:51.884341800Z",
     "start_time": "2024-02-18T07:26:51.834174500Z"
    }
   },
   "id": "e4727a559c4ad0ca",
   "execution_count": 13
  },
  {
   "cell_type": "code",
   "outputs": [
    {
     "data": {
      "text/plain": "  category                                               text\n0      ham  Your opinion about me? 1. Over 2. Jada 3. Kusr...\n1      ham  What's up? Do you want me to come online? If y...\n2      ham                       So u workin overtime nigpun?\n3      ham  Also sir, i sent you an email about how to log...\n6      ham  Sorry dude. Dont know how i forgot. Even after...",
      "text/html": "<div>\n<style scoped>\n    .dataframe tbody tr th:only-of-type {\n        vertical-align: middle;\n    }\n\n    .dataframe tbody tr th {\n        vertical-align: top;\n    }\n\n    .dataframe thead th {\n        text-align: right;\n    }\n</style>\n<table border=\"1\" class=\"dataframe\">\n  <thead>\n    <tr style=\"text-align: right;\">\n      <th></th>\n      <th>category</th>\n      <th>text</th>\n    </tr>\n  </thead>\n  <tbody>\n    <tr>\n      <th>0</th>\n      <td>ham</td>\n      <td>Your opinion about me? 1. Over 2. Jada 3. Kusr...</td>\n    </tr>\n    <tr>\n      <th>1</th>\n      <td>ham</td>\n      <td>What's up? Do you want me to come online? If y...</td>\n    </tr>\n    <tr>\n      <th>2</th>\n      <td>ham</td>\n      <td>So u workin overtime nigpun?</td>\n    </tr>\n    <tr>\n      <th>3</th>\n      <td>ham</td>\n      <td>Also sir, i sent you an email about how to log...</td>\n    </tr>\n    <tr>\n      <th>6</th>\n      <td>ham</td>\n      <td>Sorry dude. Dont know how i forgot. Even after...</td>\n    </tr>\n  </tbody>\n</table>\n</div>"
     },
     "execution_count": 14,
     "metadata": {},
     "output_type": "execute_result"
    }
   ],
   "source": [
    "df1[\"LABEL\"] = df1[\"LABEL\"].str.replace(\"Spam\", \"spam\").replace(\"Smishing\", \"smishing\")\n",
    "df1 = df1[df1[\"LABEL\"] != \"smishing\"]\n",
    "df1.columns = [\"category\", \"text\"]\n",
    "df1.head()"
   ],
   "metadata": {
    "collapsed": false,
    "ExecuteTime": {
     "end_time": "2024-02-18T07:26:51.919610500Z",
     "start_time": "2024-02-18T07:26:51.865337500Z"
    }
   },
   "id": "bfa7c656e8ce49",
   "execution_count": 14
  },
  {
   "cell_type": "markdown",
   "source": [
    "## Dataset #2"
   ],
   "metadata": {
    "collapsed": false
   },
   "id": "85245ac14efc990"
  },
  {
   "cell_type": "code",
   "outputs": [],
   "source": [
    "df2 = pd.read_csv(BASE_PATH + r\"\\text-messages.csv\")[[\"category\", \"text\"]]"
   ],
   "metadata": {
    "collapsed": false,
    "ExecuteTime": {
     "end_time": "2024-02-18T07:26:51.970272300Z",
     "start_time": "2024-02-18T07:26:51.891362200Z"
    }
   },
   "id": "9e3f67f37f867882",
   "execution_count": 15
  },
  {
   "cell_type": "code",
   "outputs": [
    {
     "data": {
      "text/plain": "   category                                               text\n0      spam  Make money while watching YouTube, earn 500P p...\n1       ham  Get up to P125K extra funds for emergencies wi...\n9       ham  G to upgrade your home! Just use GCredit to pa...\n10      ham  Good news! You can still pay with GGives at yo...\n11      ham  Get up to P125K extra funds for emergencies wi...",
      "text/html": "<div>\n<style scoped>\n    .dataframe tbody tr th:only-of-type {\n        vertical-align: middle;\n    }\n\n    .dataframe tbody tr th {\n        vertical-align: top;\n    }\n\n    .dataframe thead th {\n        text-align: right;\n    }\n</style>\n<table border=\"1\" class=\"dataframe\">\n  <thead>\n    <tr style=\"text-align: right;\">\n      <th></th>\n      <th>category</th>\n      <th>text</th>\n    </tr>\n  </thead>\n  <tbody>\n    <tr>\n      <th>0</th>\n      <td>spam</td>\n      <td>Make money while watching YouTube, earn 500P p...</td>\n    </tr>\n    <tr>\n      <th>1</th>\n      <td>ham</td>\n      <td>Get up to P125K extra funds for emergencies wi...</td>\n    </tr>\n    <tr>\n      <th>9</th>\n      <td>ham</td>\n      <td>G to upgrade your home! Just use GCredit to pa...</td>\n    </tr>\n    <tr>\n      <th>10</th>\n      <td>ham</td>\n      <td>Good news! You can still pay with GGives at yo...</td>\n    </tr>\n    <tr>\n      <th>11</th>\n      <td>ham</td>\n      <td>Get up to P125K extra funds for emergencies wi...</td>\n    </tr>\n  </tbody>\n</table>\n</div>"
     },
     "execution_count": 16,
     "metadata": {},
     "output_type": "execute_result"
    }
   ],
   "source": [
    "df2 = df2[df2[\"text\"] != \"<REDACTED>\"]\n",
    "df2[\"category\"] = df2[\"category\"].apply(lambda x: \"spam\" if x == \"spam\" else \"ham\")\n",
    "df2.head()"
   ],
   "metadata": {
    "collapsed": false,
    "ExecuteTime": {
     "end_time": "2024-02-18T07:26:52.019058400Z",
     "start_time": "2024-02-18T07:26:51.923125600Z"
    }
   },
   "id": "88743a2ff529e96e",
   "execution_count": 16
  },
  {
   "cell_type": "markdown",
   "source": [
    "## Dataset #3"
   ],
   "metadata": {
    "collapsed": false
   },
   "id": "18af71fcec11e58"
  },
  {
   "cell_type": "code",
   "outputs": [],
   "source": [
    "df3 = pd.read_csv(BASE_PATH + r\"\\spam.csv\")[[\"v1\", \"v2\"]]"
   ],
   "metadata": {
    "collapsed": false,
    "ExecuteTime": {
     "end_time": "2024-02-18T07:26:52.021058400Z",
     "start_time": "2024-02-18T07:26:51.938235900Z"
    }
   },
   "id": "654610794a276064",
   "execution_count": 17
  },
  {
   "cell_type": "code",
   "outputs": [],
   "source": [
    "df3.columns = [\"category\", \"text\"]"
   ],
   "metadata": {
    "collapsed": false,
    "ExecuteTime": {
     "end_time": "2024-02-18T07:26:52.022059800Z",
     "start_time": "2024-02-18T07:26:51.971271900Z"
    }
   },
   "id": "60d6b58f41a1aecd",
   "execution_count": 18
  },
  {
   "cell_type": "markdown",
   "source": [
    "## Merge all datasets"
   ],
   "metadata": {
    "collapsed": false
   },
   "id": "7eaecfdbdbba4ae0"
  },
  {
   "cell_type": "code",
   "outputs": [
    {
     "name": "stdout",
     "output_type": "stream",
     "text": [
      "(5333, 2)\n",
      "(821, 2)\n",
      "(5572, 2)\n"
     ]
    }
   ],
   "source": [
    "dfs = [df1, df2, df3]"
   ],
   "metadata": {
    "collapsed": false,
    "ExecuteTime": {
     "end_time": "2024-02-18T07:26:52.071361Z",
     "start_time": "2024-02-18T07:26:51.989079300Z"
    }
   },
   "id": "6c95c7e85e45cceb",
   "execution_count": 19
  },
  {
   "cell_type": "code",
   "outputs": [
    {
     "data": {
      "text/plain": "(11726, 2)"
     },
     "execution_count": 26,
     "metadata": {},
     "output_type": "execute_result"
    }
   ],
   "source": [
    "final_df = pd.concat(dfs, axis=0)\n",
    "final_df.shape"
   ],
   "metadata": {
    "collapsed": false,
    "ExecuteTime": {
     "end_time": "2024-02-18T07:28:20.887310200Z",
     "start_time": "2024-02-18T07:28:20.804770600Z"
    }
   },
   "id": "2f9179ab7be166c8",
   "execution_count": 26
  },
  {
   "cell_type": "code",
   "outputs": [
    {
     "data": {
      "text/plain": "           text\ncategory       \nham       10047\nspam       1679",
      "text/html": "<div>\n<style scoped>\n    .dataframe tbody tr th:only-of-type {\n        vertical-align: middle;\n    }\n\n    .dataframe tbody tr th {\n        vertical-align: top;\n    }\n\n    .dataframe thead th {\n        text-align: right;\n    }\n</style>\n<table border=\"1\" class=\"dataframe\">\n  <thead>\n    <tr style=\"text-align: right;\">\n      <th></th>\n      <th>text</th>\n    </tr>\n    <tr>\n      <th>category</th>\n      <th></th>\n    </tr>\n  </thead>\n  <tbody>\n    <tr>\n      <th>ham</th>\n      <td>10047</td>\n    </tr>\n    <tr>\n      <th>spam</th>\n      <td>1679</td>\n    </tr>\n  </tbody>\n</table>\n</div>"
     },
     "execution_count": 21,
     "metadata": {},
     "output_type": "execute_result"
    }
   ],
   "source": [
    "final_df.groupby(\"category\").count()"
   ],
   "metadata": {
    "collapsed": false,
    "ExecuteTime": {
     "end_time": "2024-02-18T07:26:52.150102500Z",
     "start_time": "2024-02-18T07:26:52.027538900Z"
    }
   },
   "id": "e8856caa0e1b1c20",
   "execution_count": 21
  },
  {
   "cell_type": "code",
   "outputs": [],
   "source": [
    "final_df.to_csv(\"fraud_text.csv\", index=False)"
   ],
   "metadata": {
    "collapsed": false,
    "ExecuteTime": {
     "end_time": "2024-02-18T07:31:38.324885600Z",
     "start_time": "2024-02-18T07:31:38.279648500Z"
    }
   },
   "id": "256d5c54bb5d2169",
   "execution_count": 30
  },
  {
   "cell_type": "code",
   "outputs": [],
   "source": [],
   "metadata": {
    "collapsed": false
   },
   "id": "39bc757df29427d4"
  }
 ],
 "metadata": {
  "kernelspec": {
   "display_name": "Python 3",
   "language": "python",
   "name": "python3"
  },
  "language_info": {
   "codemirror_mode": {
    "name": "ipython",
    "version": 2
   },
   "file_extension": ".py",
   "mimetype": "text/x-python",
   "name": "python",
   "nbconvert_exporter": "python",
   "pygments_lexer": "ipython2",
   "version": "2.7.6"
  }
 },
 "nbformat": 4,
 "nbformat_minor": 5
}
